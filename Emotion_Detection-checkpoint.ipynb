{
 "cells": [
  {
   "cell_type": "code",
   "execution_count": 2,
   "metadata": {},
   "outputs": [],
   "source": [
    "import warnings\n",
    "warnings.filterwarnings(\"ignore\")\n",
    "import pandas as pd\n",
    "import numpy as np\n",
    "import matplotlib.pyplot as plt\n",
    "from sklearn.model_selection import train_test_split\n",
    "from keras import layers\n",
    "from keras.layers import Input, Dense, Activation, ZeroPadding2D, BatchNormalization, Conv2D, Flatten\n",
    "from keras.layers import AveragePooling2D, MaxPooling2D, GlobalAveragePooling2D, GlobalMaxPooling2D\n",
    "from keras.models import Model\n",
    "from keras.preprocessing import image\n",
    "from keras.utils import layer_utils\n",
    "import math\n",
    "import h5py"
   ]
  },
  {
   "cell_type": "code",
   "execution_count": 3,
   "metadata": {},
   "outputs": [],
   "source": [
    "def load_dataset():\n",
    "    train_dataset = h5py.File(\"train_happy.h5\")\n",
    "    X_train_dataset = np.array(train_dataset[\"train_set_x\"][:])\n",
    "    y_train_dataset = np.array(train_dataset[\"train_set_y\"][:])\n",
    "    \n",
    "    test_dataset = h5py.File(\"test_happy.h5\")\n",
    "    X_test_dataset = np.array(test_dataset[\"test_set_x\"][:])\n",
    "    y_test_dataset = np.array(test_dataset[\"test_set_y\"][:])\n",
    "    \n",
    "    classes = np.array(test_dataset[\"list_classes\"][:])\n",
    "    \n",
    "    y_train_dataset = y_train_dataset.reshape((1, y_train_dataset.shape[0]))\n",
    "    y_test_dataset = y_test_dataset.reshape((1, y_test_dataset.shape[0]))\n",
    "    \n",
    "    return X_train_dataset, y_train_dataset, X_test_dataset, y_test_dataset, classes"
   ]
  },
  {
   "cell_type": "code",
   "execution_count": 6,
   "metadata": {},
   "outputs": [],
   "source": [
    "X_train_dataset, y_train_dataset, X_test_dataset, y_test_dataset, classes = load_dataset()"
   ]
  },
  {
   "cell_type": "code",
   "execution_count": 7,
   "metadata": {},
   "outputs": [],
   "source": [
    "X_train = X_train_dataset/255\n",
    "X_test = X_test_dataset/255\n",
    "\n",
    "y_train = y_train_dataset.T\n",
    "y_test = y_test_dataset.T"
   ]
  },
  {
   "cell_type": "code",
   "execution_count": 9,
   "metadata": {},
   "outputs": [
    {
     "name": "stdout",
     "output_type": "stream",
     "text": [
      "(600, 64, 64, 3)\n",
      "(150, 64, 64, 3)\n",
      "(600, 1)\n",
      "(150, 1)\n"
     ]
    }
   ],
   "source": [
    "print(X_train.shape)\n",
    "print(X_test.shape)\n",
    "print(y_train.shape)\n",
    "print(y_test.shape)"
   ]
  },
  {
   "cell_type": "code",
   "execution_count": 11,
   "metadata": {},
   "outputs": [],
   "source": [
    "def emotion_Detection_Model(input_shape):\n",
    "    X_input = Input(input_shape)\n",
    "    \n",
    "    X = ZeroPadding2D((3,3))(X_input)\n",
    "    \n",
    "    X = Conv2D(32, (7,7), strides=(1,1), name='Conv0')(X)\n",
    "    \n",
    "    X = BatchNormalization(axis=3, name='bn0')(X)\n",
    "    \n",
    "    X = Activation('relu')(X)\n",
    "    \n",
    "    X = MaxPooling2D((2,2), name='max_pool')(X)\n",
    "    \n",
    "    X = Flatten()(X)\n",
    "    \n",
    "    X = Dense(1, activation='sigmoid', name='fc')(X)\n",
    "    \n",
    "    model = Model(inputs=X_input, outputs=X, name=\"HappyModel\")\n",
    "    \n",
    "    return model"
   ]
  },
  {
   "cell_type": "code",
   "execution_count": 13,
   "metadata": {},
   "outputs": [],
   "source": [
    "emotion_detection_model = emotion_Detection_Model(input_shape=(64,64,3))"
   ]
  },
  {
   "cell_type": "code",
   "execution_count": 15,
   "metadata": {},
   "outputs": [
    {
     "name": "stdout",
     "output_type": "stream",
     "text": [
      "Epoch 1/100\n",
      "600/600 [==============================] - 6s 10ms/step - loss: 0.9038 - acc: 0.8433\n",
      "Epoch 2/100\n",
      "600/600 [==============================] - 4s 7ms/step - loss: 0.0899 - acc: 0.9683\n",
      "Epoch 3/100\n",
      "600/600 [==============================] - 4s 7ms/step - loss: 0.0527 - acc: 0.9833\n",
      "Epoch 4/100\n",
      "600/600 [==============================] - 4s 7ms/step - loss: 0.0213 - acc: 0.9950\n",
      "Epoch 5/100\n",
      "600/600 [==============================] - 4s 7ms/step - loss: 0.0157 - acc: 0.9950\n",
      "Epoch 6/100\n",
      "600/600 [==============================] - 4s 7ms/step - loss: 0.0180 - acc: 0.9967\n",
      "Epoch 7/100\n",
      "600/600 [==============================] - 5s 8ms/step - loss: 0.0103 - acc: 0.9967\n",
      "Epoch 8/100\n",
      "600/600 [==============================] - 4s 7ms/step - loss: 0.0119 - acc: 0.9950\n",
      "Epoch 9/100\n",
      "600/600 [==============================] - 4s 7ms/step - loss: 0.0067 - acc: 0.9983\n",
      "Epoch 10/100\n",
      "600/600 [==============================] - 4s 7ms/step - loss: 0.0039 - acc: 1.0000\n",
      "Epoch 11/100\n",
      "600/600 [==============================] - 5s 8ms/step - loss: 0.0034 - acc: 1.0000\n",
      "Epoch 12/100\n",
      "600/600 [==============================] - 4s 7ms/step - loss: 0.0029 - acc: 1.0000\n",
      "Epoch 13/100\n",
      "600/600 [==============================] - 4s 7ms/step - loss: 0.0027 - acc: 1.0000\n",
      "Epoch 14/100\n",
      "600/600 [==============================] - 4s 7ms/step - loss: 0.0026 - acc: 1.0000\n",
      "Epoch 15/100\n",
      "600/600 [==============================] - 5s 8ms/step - loss: 0.0026 - acc: 1.0000\n",
      "Epoch 16/100\n",
      "600/600 [==============================] - 4s 7ms/step - loss: 0.0024 - acc: 1.0000\n",
      "Epoch 17/100\n",
      "600/600 [==============================] - 4s 7ms/step - loss: 0.0025 - acc: 1.0000\n",
      "Epoch 18/100\n",
      "600/600 [==============================] - 4s 7ms/step - loss: 0.0024 - acc: 1.0000\n",
      "Epoch 19/100\n",
      "600/600 [==============================] - 4s 7ms/step - loss: 0.0022 - acc: 1.0000\n",
      "Epoch 20/100\n",
      "600/600 [==============================] - 4s 7ms/step - loss: 0.0021 - acc: 1.0000\n",
      "Epoch 21/100\n",
      "600/600 [==============================] - 4s 7ms/step - loss: 0.0023 - acc: 1.0000\n",
      "Epoch 22/100\n",
      "600/600 [==============================] - 5s 8ms/step - loss: 0.0023 - acc: 1.0000\n",
      "Epoch 23/100\n",
      "600/600 [==============================] - 4s 7ms/step - loss: 0.0023 - acc: 1.0000\n",
      "Epoch 24/100\n",
      "600/600 [==============================] - 4s 7ms/step - loss: 0.0022 - acc: 1.0000\n",
      "Epoch 25/100\n",
      "600/600 [==============================] - 4s 7ms/step - loss: 0.0017 - acc: 1.0000\n",
      "Epoch 26/100\n",
      "600/600 [==============================] - 5s 8ms/step - loss: 0.0019 - acc: 1.0000\n",
      "Epoch 27/100\n",
      "600/600 [==============================] - 4s 7ms/step - loss: 0.0019 - acc: 1.0000\n",
      "Epoch 28/100\n",
      "600/600 [==============================] - 4s 7ms/step - loss: 0.0022 - acc: 1.0000\n",
      "Epoch 29/100\n",
      "600/600 [==============================] - 4s 7ms/step - loss: 0.0015 - acc: 1.0000\n",
      "Epoch 30/100\n",
      "600/600 [==============================] - 5s 8ms/step - loss: 0.0021 - acc: 1.0000\n",
      "Epoch 31/100\n",
      "600/600 [==============================] - 4s 7ms/step - loss: 0.0023 - acc: 1.0000\n",
      "Epoch 32/100\n",
      "600/600 [==============================] - 4s 7ms/step - loss: 0.0015 - acc: 1.0000\n",
      "Epoch 33/100\n",
      "600/600 [==============================] - 4s 7ms/step - loss: 0.0013 - acc: 1.0000\n",
      "Epoch 34/100\n",
      "600/600 [==============================] - 4s 7ms/step - loss: 0.0014 - acc: 1.0000\n",
      "Epoch 35/100\n",
      "600/600 [==============================] - 5s 8ms/step - loss: 0.0016 - acc: 1.0000\n",
      "Epoch 36/100\n",
      "600/600 [==============================] - 5s 8ms/step - loss: 0.0012 - acc: 1.0000\n",
      "Epoch 37/100\n",
      "600/600 [==============================] - 5s 8ms/step - loss: 0.0016 - acc: 1.0000\n",
      "Epoch 38/100\n",
      "600/600 [==============================] - 4s 7ms/step - loss: 0.0012 - acc: 1.0000\n",
      "Epoch 39/100\n",
      "600/600 [==============================] - 4s 7ms/step - loss: 0.0011 - acc: 1.0000\n",
      "Epoch 40/100\n",
      "600/600 [==============================] - 4s 7ms/step - loss: 0.0010 - acc: 1.0000\n",
      "Epoch 41/100\n",
      "600/600 [==============================] - 5s 8ms/step - loss: 0.0010 - acc: 1.0000\n",
      "Epoch 42/100\n",
      "600/600 [==============================] - 4s 7ms/step - loss: 0.0012 - acc: 1.0000\n",
      "Epoch 43/100\n",
      "600/600 [==============================] - 4s 7ms/step - loss: 0.0014 - acc: 1.0000\n",
      "Epoch 44/100\n",
      "600/600 [==============================] - 4s 7ms/step - loss: 0.0011 - acc: 1.0000\n",
      "Epoch 45/100\n",
      "600/600 [==============================] - 4s 7ms/step - loss: 0.0013 - acc: 1.0000\n",
      "Epoch 46/100\n",
      "600/600 [==============================] - 4s 7ms/step - loss: 9.9448e-04 - acc: 1.0000\n",
      "Epoch 47/100\n",
      "600/600 [==============================] - 4s 7ms/step - loss: 9.4374e-04 - acc: 1.0000\n",
      "Epoch 48/100\n",
      "600/600 [==============================] - 5s 8ms/step - loss: 8.6434e-04 - acc: 1.0000\n",
      "Epoch 49/100\n",
      "600/600 [==============================] - 4s 7ms/step - loss: 9.6480e-04 - acc: 1.0000\n",
      "Epoch 50/100\n",
      "600/600 [==============================] - 4s 7ms/step - loss: 9.0109e-04 - acc: 1.0000\n",
      "Epoch 51/100\n",
      "600/600 [==============================] - 4s 7ms/step - loss: 8.9505e-04 - acc: 1.0000\n",
      "Epoch 52/100\n",
      "600/600 [==============================] - 5s 9ms/step - loss: 8.3251e-04 - acc: 1.0000\n",
      "Epoch 53/100\n",
      "600/600 [==============================] - 4s 7ms/step - loss: 8.2869e-04 - acc: 1.0000\n",
      "Epoch 54/100\n",
      "600/600 [==============================] - 4s 7ms/step - loss: 9.2201e-04 - acc: 1.0000\n",
      "Epoch 55/100\n",
      "600/600 [==============================] - 4s 7ms/step - loss: 9.5220e-04 - acc: 1.0000\n",
      "Epoch 56/100\n",
      "600/600 [==============================] - 4s 7ms/step - loss: 8.2082e-04 - acc: 1.0000\n",
      "Epoch 57/100\n",
      "600/600 [==============================] - 4s 7ms/step - loss: 7.3558e-04 - acc: 1.0000\n",
      "Epoch 58/100\n",
      "600/600 [==============================] - 4s 7ms/step - loss: 7.9102e-04 - acc: 1.0000\n",
      "Epoch 59/100\n",
      "600/600 [==============================] - 4s 7ms/step - loss: 7.4222e-04 - acc: 1.0000\n",
      "Epoch 60/100\n",
      "600/600 [==============================] - 4s 7ms/step - loss: 7.2571e-04 - acc: 1.0000\n",
      "Epoch 61/100\n",
      "600/600 [==============================] - 4s 7ms/step - loss: 6.9689e-04 - acc: 1.0000\n",
      "Epoch 62/100\n",
      "600/600 [==============================] - 4s 7ms/step - loss: 7.5704e-04 - acc: 1.0000\n",
      "Epoch 63/100\n",
      "600/600 [==============================] - 5s 8ms/step - loss: 7.4692e-04 - acc: 1.0000\n",
      "Epoch 64/100\n",
      "600/600 [==============================] - 4s 7ms/step - loss: 7.0332e-04 - acc: 1.0000\n",
      "Epoch 65/100\n",
      "600/600 [==============================] - 4s 7ms/step - loss: 6.7108e-04 - acc: 1.0000\n",
      "Epoch 66/100\n",
      "600/600 [==============================] - 5s 8ms/step - loss: 7.0778e-04 - acc: 1.0000\n",
      "Epoch 67/100\n",
      "600/600 [==============================] - 4s 7ms/step - loss: 8.6837e-04 - acc: 1.0000\n",
      "Epoch 68/100\n",
      "600/600 [==============================] - 4s 7ms/step - loss: 9.9124e-04 - acc: 1.0000\n",
      "Epoch 69/100\n",
      "600/600 [==============================] - 4s 7ms/step - loss: 7.5032e-04 - acc: 1.0000\n",
      "Epoch 70/100\n",
      "600/600 [==============================] - 5s 9ms/step - loss: 6.6022e-04 - acc: 1.0000\n",
      "Epoch 71/100\n",
      "600/600 [==============================] - 4s 7ms/step - loss: 6.3891e-04 - acc: 1.0000\n",
      "Epoch 72/100\n",
      "600/600 [==============================] - 4s 7ms/step - loss: 6.8209e-04 - acc: 1.0000\n",
      "Epoch 73/100\n",
      "600/600 [==============================] - 4s 7ms/step - loss: 6.3182e-04 - acc: 1.0000\n",
      "Epoch 74/100\n",
      "600/600 [==============================] - 5s 8ms/step - loss: 6.5920e-04 - acc: 1.0000\n",
      "Epoch 75/100\n",
      "600/600 [==============================] - 4s 7ms/step - loss: 6.3613e-04 - acc: 1.0000\n",
      "Epoch 76/100\n",
      "600/600 [==============================] - 4s 7ms/step - loss: 5.9593e-04 - acc: 1.0000\n",
      "Epoch 77/100\n",
      "600/600 [==============================] - 4s 7ms/step - loss: 6.2343e-04 - acc: 1.0000\n",
      "Epoch 78/100\n",
      "600/600 [==============================] - 5s 8ms/step - loss: 6.5648e-04 - acc: 1.0000\n",
      "Epoch 79/100\n",
      "600/600 [==============================] - 4s 7ms/step - loss: 5.8409e-04 - acc: 1.0000\n",
      "Epoch 80/100\n",
      "600/600 [==============================] - 4s 7ms/step - loss: 6.0629e-04 - acc: 1.0000\n",
      "Epoch 81/100\n",
      "600/600 [==============================] - 4s 7ms/step - loss: 7.4729e-04 - acc: 1.0000\n",
      "Epoch 82/100\n",
      "600/600 [==============================] - 5s 8ms/step - loss: 6.7531e-04 - acc: 1.0000\n",
      "Epoch 83/100\n",
      "600/600 [==============================] - 4s 7ms/step - loss: 5.7021e-04 - acc: 1.0000\n"
     ]
    },
    {
     "name": "stdout",
     "output_type": "stream",
     "text": [
      "Epoch 84/100\n",
      "600/600 [==============================] - 4s 7ms/step - loss: 5.1747e-04 - acc: 1.0000\n",
      "Epoch 85/100\n",
      "600/600 [==============================] - 4s 7ms/step - loss: 5.1770e-04 - acc: 1.0000\n",
      "Epoch 86/100\n",
      "600/600 [==============================] - 4s 7ms/step - loss: 4.7294e-04 - acc: 1.0000\n",
      "Epoch 87/100\n",
      "600/600 [==============================] - 4s 7ms/step - loss: 5.0623e-04 - acc: 1.0000\n",
      "Epoch 88/100\n",
      "600/600 [==============================] - 4s 7ms/step - loss: 5.2453e-04 - acc: 1.0000\n",
      "Epoch 89/100\n",
      "600/600 [==============================] - 4s 7ms/step - loss: 5.0129e-04 - acc: 1.0000\n",
      "Epoch 90/100\n",
      "600/600 [==============================] - 4s 7ms/step - loss: 5.1179e-04 - acc: 1.0000\n",
      "Epoch 91/100\n",
      "600/600 [==============================] - 4s 7ms/step - loss: 4.5597e-04 - acc: 1.0000\n",
      "Epoch 92/100\n",
      "600/600 [==============================] - 4s 7ms/step - loss: 4.5667e-04 - acc: 1.0000\n",
      "Epoch 93/100\n",
      "600/600 [==============================] - 5s 8ms/step - loss: 4.6770e-04 - acc: 1.0000\n",
      "Epoch 94/100\n",
      "600/600 [==============================] - 4s 7ms/step - loss: 5.2995e-04 - acc: 1.0000\n",
      "Epoch 95/100\n",
      "600/600 [==============================] - 4s 7ms/step - loss: 4.7803e-04 - acc: 1.0000\n",
      "Epoch 96/100\n",
      "600/600 [==============================] - 4s 7ms/step - loss: 4.6731e-04 - acc: 1.0000\n",
      "Epoch 97/100\n",
      "600/600 [==============================] - 4s 7ms/step - loss: 4.4798e-04 - acc: 1.0000\n",
      "Epoch 98/100\n",
      "600/600 [==============================] - 4s 7ms/step - loss: 4.6231e-04 - acc: 1.0000\n",
      "Epoch 99/100\n",
      "600/600 [==============================] - 4s 7ms/step - loss: 5.0823e-04 - acc: 1.0000\n",
      "Epoch 100/100\n",
      "600/600 [==============================] - 4s 7ms/step - loss: 4.2223e-04 - acc: 1.0000\n"
     ]
    },
    {
     "data": {
      "text/plain": [
       "<keras.callbacks.History at 0x1dcad4efcc8>"
      ]
     },
     "execution_count": 15,
     "metadata": {},
     "output_type": "execute_result"
    }
   ],
   "source": [
    "emotion_detection_model.compile(optimizer= \"Adam\", loss='binary_crossentropy', metrics=['accuracy'])\n",
    "emotion_detection_model.fit(x=X_train, y=y_train, batch_size=60, epochs=100)"
   ]
  },
  {
   "cell_type": "code",
   "execution_count": 16,
   "metadata": {},
   "outputs": [
    {
     "name": "stdout",
     "output_type": "stream",
     "text": [
      "\r",
      "150/150 [==============================] - 2s 12ms/step\n"
     ]
    }
   ],
   "source": [
    "preds = emotion_detection_model.evaluate(x=X_test, y=y_test, batch_size=150)"
   ]
  },
  {
   "cell_type": "code",
   "execution_count": 18,
   "metadata": {},
   "outputs": [
    {
     "name": "stdout",
     "output_type": "stream",
     "text": [
      "Loss = 0.0549958162009716\n",
      "Test Accuracy = 0.9666666388511658\n"
     ]
    }
   ],
   "source": [
    "print (\"Loss = \" + str(preds[0]))\n",
    "print (\"Test Accuracy = \" + str(preds[1]))"
   ]
  },
  {
   "cell_type": "code",
   "execution_count": null,
   "metadata": {},
   "outputs": [],
   "source": []
  }
 ],
 "metadata": {
  "kernelspec": {
   "display_name": "Python 3",
   "language": "python",
   "name": "python3"
  },
  "language_info": {
   "codemirror_mode": {
    "name": "ipython",
    "version": 3
   },
   "file_extension": ".py",
   "mimetype": "text/x-python",
   "name": "python",
   "nbconvert_exporter": "python",
   "pygments_lexer": "ipython3",
   "version": "3.7.3"
  }
 },
 "nbformat": 4,
 "nbformat_minor": 2
}
